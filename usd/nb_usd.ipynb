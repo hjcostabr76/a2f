{
  "cells": [
    {
      "cell_type": "markdown",
      "metadata": {
        "id": "nN_O7F3XRZUy"
      },
      "source": [
        "# PXR | USD"
      ]
    },
    {
      "cell_type": "markdown",
      "metadata": {
        "id": "ZKP4qrxWRS2j"
      },
      "source": [
        "Imports"
      ]
    },
    {
      "cell_type": "code",
      "execution_count": null,
      "metadata": {
        "colab": {
          "base_uri": "https://localhost:8080/"
        },
        "id": "67A0J_2SC_a0",
        "outputId": "af489369-2f74-4a4e-f4bf-80ed343d6a5e"
      },
      "outputs": [
        {
          "data": {
            "text/plain": [
              "<pxr.Sdf.ValueTypeName at 0x7f45f6480d00>"
            ]
          },
          "execution_count": 30,
          "metadata": {},
          "output_type": "execute_result"
        }
      ],
      "source": [
        "# ! pip install usd-core\n",
        "\n",
        "import os\n",
        "\n",
        "from pxr import Usd, UsdGeom, Sdf\n"
      ]
    },
    {
      "cell_type": "markdown",
      "metadata": {
        "id": "MLdqO6YhSoBv"
      },
      "source": [
        "### Parameters"
      ]
    },
    {
      "cell_type": "code",
      "execution_count": null,
      "metadata": {
        "id": "c1oZaiPCSsHv"
      },
      "outputs": [],
      "source": [
        "\n",
        "# Paths\n",
        "file_usd = 'test.usda'\n",
        "\n",
        "path_root_dir = './file'\n",
        "path_usd = os.path.join(path_root_dir, file_usd)\n",
        "\n",
        "# ...?\n",
        "prim_root_name = 'World'\n",
        "prim_animation_name = 'anim_canto_primeiro_usd'\n"
      ]
    },
    {
      "cell_type": "markdown",
      "metadata": {
        "id": "vd_8p33VRiID"
      },
      "source": [
        "## Build output"
      ]
    },
    {
      "cell_type": "code",
      "execution_count": null,
      "metadata": {
        "id": "uKVhfz2bIHNT"
      },
      "outputs": [],
      "source": [
        "\n",
        "# Load stage\n",
        "# stage = Usd.Stage.CreateNew(path_usd)\n",
        "stage = Usd.Stage.Open(path_usd)\n",
        "\n",
        "# Set metadata\n",
        "stage.SetMetadata('defaultPrim', prim_root_name)\n",
        "stage.SetMetadata('endTimeCode', 29)\n",
        "stage.SetMetadata('framesPerSecond', 30)\n",
        "stage.SetMetadata('metersPerUnit', 0.01)\n",
        "stage.SetMetadata('startTimeCode', 0)\n",
        "stage.SetMetadata('timeCodesPerSecond', 30)\n",
        "\n",
        "# Add root prim\n",
        "# prim_world = UsdGeom.Xform.Define(stage, prim_root_name)\n",
        "prim_world = stage.DefinePrim(f'/{prim_root_name}', 'Xform')\n",
        "\n",
        "# Add skeleton animation prim\n",
        "prim_animation = stage.DefinePrim(f'/{prim_root_name}/{prim_animation_name}', 'SkelAnimation')\n",
        "\n",
        "attr_curve_names = prim_animation.CreateAttribute('custom:mh_curveNames', Sdf.ValueTypeNames.TokenArray)\n",
        "# attr_curve_names.Set(['test1', 'test2'])\n",
        "\n",
        "attr_curve_values = prim_animation.CreateAttribute('custom:mh_curveValues', Sdf.ValueTypeNames.FloatArray)\n",
        "for t in range(2):\n",
        "    attr_curve_values.Set([t + 3, t +1], t)\n",
        "\n",
        "# Save\n",
        "stage.Save()\n"
      ]
    }
  ],
  "metadata": {
    "colab": {
      "provenance": []
    },
    "kernelspec": {
      "display_name": "Python 3",
      "language": "python",
      "name": "python3"
    },
    "language_info": {
      "name": "python",
      "version": "3.10.6 (main, Nov 14 2022, 16:10:14) [GCC 11.3.0]"
    },
    "vscode": {
      "interpreter": {
        "hash": "916dbcbb3f70747c44a77c7bcd40155683ae19c65e1c03b4aa3499c5328201f1"
      }
    }
  },
  "nbformat": 4,
  "nbformat_minor": 0
}
